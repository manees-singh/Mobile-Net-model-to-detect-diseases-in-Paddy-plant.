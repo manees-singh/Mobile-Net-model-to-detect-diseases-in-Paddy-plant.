{
  "nbformat": 4,
  "nbformat_minor": 0,
  "metadata": {
    "colab": {
      "provenance": [],
      "authorship_tag": "ABX9TyNWbpG51HJW0a4xlY1xIDaU",
      "include_colab_link": true
    },
    "kernelspec": {
      "name": "python3",
      "display_name": "Python 3"
    }
  },
  "cells": [
    {
      "cell_type": "markdown",
      "metadata": {
        "id": "view-in-github",
        "colab_type": "text"
      },
      "source": [
        "<a href=\"https://colab.research.google.com/github/darkmanees/Mobile-Net-model-to-detect-diseases-in-Paddy-plant./blob/main/mobilenet.ipynb\" target=\"_parent\"><img src=\"https://colab.research.google.com/assets/colab-badge.svg\" alt=\"Open In Colab\"/></a>"
      ]
    },
    {
      "cell_type": "code",
      "metadata": {
        "id": "zTbHf5sgqSC3"
      },
      "source": [
        "from google.colab import drive\n",
        "drive.mount('/content/drive')"
      ],
      "execution_count": null,
      "outputs": []
    },
    {
      "cell_type": "code",
      "metadata": {
        "id": "1DpV-sy3isjy"
      },
      "source": [
        "import numpy as np\n",
        "import tensorflow as tf\n",
        "from tensorflow import keras\n",
        "from tensorflow.keras.models import Sequential\n",
        "from tensorflow.keras.layers import Activation, Dense, Flatten, BatchNormalization, Conv2D, MaxPool2D,Dropout\n",
        "from tensorflow.keras.optimizers import Adam\n",
        "from tensorflow.keras.metrics import categorical_crossentropy\n",
        "from tensorflow.keras.preprocessing.image import ImageDataGenerator\n",
        "from sklearn.metrics import confusion_matrix\n",
        "import itertools\n",
        "from tensorflow.keras.models import Model\n",
        "import os\n",
        "import shutil\n",
        "import random\n",
        "import glob\n",
        "import matplotlib.pyplot as plt\n",
        "import warnings\n",
        "warnings.simplefilter(action='ignore', category=FutureWarning)\n",
        "%matplotlib inline"
      ],
      "execution_count": null,
      "outputs": []
    },
    {
      "cell_type": "code",
      "metadata": {
        "id": "-QvPObDUi2tE"
      },
      "source": [
        "train_path= '/content/drive/My Drive/data'\n",
        "valid_path='/content/drive/My Drive/validation'\n",
        "test_path='/content/drive/My Drive/test'"
      ],
      "execution_count": null,
      "outputs": []
    },
    {
      "cell_type": "code",
      "metadata": {
        "id": "yswCOaWzYgN5"
      },
      "source": [
        "train_datagen = ImageDataGenerator(\n",
        "      rescale=1./255,\n",
        "    rotation_range=20,\n",
        "       width_shift_range=0.2,\n",
        "       height_shift_range=0.2,\n",
        "      horizontal_flip=True,\n",
        "       fill_mode='nearest')"
      ],
      "execution_count": null,
      "outputs": []
    },
    {
      "cell_type": "code",
      "metadata": {
        "id": "XApo3Ln0Yv3h"
      },
      "source": [
        "validation_datagen = ImageDataGenerator(rescale=1./255)"
      ],
      "execution_count": null,
      "outputs": []
    },
    {
      "cell_type": "code",
      "metadata": {
        "id": "9SZby5W7Y0QB"
      },
      "source": [
        "train_batchsize = 62\n",
        "val_batchsize = 10"
      ],
      "execution_count": null,
      "outputs": []
    },
    {
      "cell_type": "code",
      "metadata": {
        "id": "IaIeJ2X0Y7vP",
        "colab": {
          "base_uri": "https://localhost:8080/",
          "height": 51
        },
        "outputId": "fdf9ddf5-e8f6-4590-d39e-ea78ad1d9cf0"
      },
      "source": [
        "\n",
        "train_generator = train_datagen.flow_from_directory(\n",
        "        train_path,\n",
        "        target_size=(224, 224),\n",
        "        batch_size=train_batchsize,\n",
        "        class_mode='categorical')\n",
        "\n",
        "validation_generator = validation_datagen.flow_from_directory(\n",
        "        valid_path,\n",
        "        target_size=(224, 224),\n",
        "        batch_size=val_batchsize,\n",
        "        class_mode='categorical',\n",
        "        shuffle=True)\n"
      ],
      "execution_count": null,
      "outputs": [
        {
          "output_type": "stream",
          "text": [
            "Found 1599 images belonging to 4 classes.\n",
            "Found 282 images belonging to 4 classes.\n"
          ],
          "name": "stdout"
        }
      ]
    },
    {
      "cell_type": "code",
      "metadata": {
        "id": "24PrrjZ_jBmd",
        "colab": {
          "base_uri": "https://localhost:8080/",
          "height": 68
        },
        "outputId": "ecb620dd-4e95-4970-fec6-33843b51067b"
      },
      "source": [
        "train_batches = ImageDataGenerator(preprocessing_function=tf.keras.applications.mobilenet.preprocess_input,  rotation_range=20,\n",
        "       width_shift_range=0.2,\n",
        "       height_shift_range=0.2,\n",
        "      horizontal_flip=True,\n",
        "       fill_mode='nearest').flow_from_directory(\n",
        "    directory=train_path, target_size=(224,224), batch_size=54)\n",
        "valid_batches = ImageDataGenerator(preprocessing_function=tf.keras.applications.mobilenet.preprocess_input).flow_from_directory(\n",
        "    directory=valid_path, target_size=(224,224), batch_size=18)\n",
        "test_batches = ImageDataGenerator(preprocessing_function=tf.keras.applications.mobilenet.preprocess_input).flow_from_directory(\n",
        "    directory=test_path, target_size=(224,224), batch_size=10, shuffle=False)"
      ],
      "execution_count": null,
      "outputs": [
        {
          "output_type": "stream",
          "text": [
            "Found 1599 images belonging to 4 classes.\n",
            "Found 282 images belonging to 4 classes.\n",
            "Found 68 images belonging to 4 classes.\n"
          ],
          "name": "stdout"
        }
      ]
    },
    {
      "cell_type": "code",
      "metadata": {
        "id": "hkZdILd1gqXw",
        "colab": {
          "base_uri": "https://localhost:8080/",
          "height": 34
        },
        "outputId": "81e4b353-ba48-421f-db1a-6d74a20fe1a7"
      },
      "source": [
        "print (train_generator.class_indices)"
      ],
      "execution_count": null,
      "outputs": [
        {
          "output_type": "stream",
          "text": [
            "{'BrownSpot': 0, 'Healthy': 1, 'Hispa': 2, 'LeafBlast': 3}\n"
          ],
          "name": "stdout"
        }
      ]
    },
    {
      "cell_type": "code",
      "metadata": {
        "id": "lFI6N1H0jGEl"
      },
      "source": [
        "base_model = tf.keras.applications.mobilenet.MobileNet()"
      ],
      "execution_count": null,
      "outputs": []
    },
    {
      "cell_type": "code",
      "metadata": {
        "id": "XzIJiwEbDrV_"
      },
      "source": [
        "base_model.summary()"
      ],
      "execution_count": null,
      "outputs": []
    },
    {
      "cell_type": "code",
      "metadata": {
        "id": "Y4BBn3W5vG6U"
      },
      "source": [
        "for layer in base_model.layers[:-4]:\n",
        "    layer.trainable = False"
      ],
      "execution_count": null,
      "outputs": []
    },
    {
      "cell_type": "code",
      "metadata": {
        "id": "w-HLIcGXvWBM"
      },
      "source": [
        "for layer in base_model.layers:\n",
        "    print(layer, layer.trainable)"
      ],
      "execution_count": null,
      "outputs": []
    },
    {
      "cell_type": "code",
      "metadata": {
        "id": "JXjoYjZ-ueZ8"
      },
      "source": [
        "model = tf.keras.models.Sequential()"
      ],
      "execution_count": null,
      "outputs": []
    },
    {
      "cell_type": "code",
      "metadata": {
        "id": "-HhiEWLljPJ1"
      },
      "source": [
        "model.add(base_model)"
      ],
      "execution_count": null,
      "outputs": []
    },
    {
      "cell_type": "code",
      "metadata": {
        "id": "xh4SxpsDvE10"
      },
      "source": [
        "model.add(keras.layers.Flatten())\n",
        "model.add(keras.layers.Dense(1024, activation='relu'))\n",
        "model.add(keras.layers.Dense(512, activation='relu'))\n",
        "model.add(keras.layers.Dropout(0.5))\n",
        "model.add(keras.layers.Dense(4, activation='softmax'))"
      ],
      "execution_count": null,
      "outputs": []
    },
    {
      "cell_type": "code",
      "metadata": {
        "id": "YSDA758u7aTb"
      },
      "source": [
        "model.summary()"
      ],
      "execution_count": null,
      "outputs": []
    },
    {
      "cell_type": "code",
      "metadata": {
        "id": "c-R9C5sYjYxm"
      },
      "source": [
        "x = Flatten()(last)\n",
        "x=Dropout(0.5)(x)\n",
        "\n",
        "x= Dense(units=4, activation='softmax')(x)\n",
        "model = Model(base_model.input, x)\n"
      ],
      "execution_count": null,
      "outputs": []
    },
    {
      "cell_type": "code",
      "metadata": {
        "id": "xcq7eT--lQLV"
      },
      "source": [
        "model.summary()"
      ],
      "execution_count": null,
      "outputs": []
    },
    {
      "cell_type": "code",
      "metadata": {
        "id": "_fTBFwz7jZK-",
        "colab": {
          "base_uri": "https://localhost:8080/",
          "height": 34
        },
        "outputId": "f380275c-285e-40b0-a0d8-7f1d3349d4bf"
      },
      "source": [
        "len(model.layers)"
      ],
      "execution_count": null,
      "outputs": [
        {
          "output_type": "execute_result",
          "data": {
            "text/plain": [
              "6"
            ]
          },
          "metadata": {
            "tags": []
          },
          "execution_count": 82
        }
      ]
    },
    {
      "cell_type": "code",
      "metadata": {
        "id": "juE_xCq9jZeF"
      },
      "source": [
        "for layer in model.layers[:-8]:\n",
        "    layer.trainable = False"
      ],
      "execution_count": null,
      "outputs": []
    },
    {
      "cell_type": "code",
      "metadata": {
        "id": "KBfIvbXmntZ4"
      },
      "source": [
        "model.compile(optimizer=Adam(lr=0.0001), loss='categorical_crossentropy', metrics=['accuracy'])"
      ],
      "execution_count": null,
      "outputs": []
    },
    {
      "cell_type": "code",
      "metadata": {
        "id": "d12lzpk7zfUv"
      },
      "source": [
        "model.fit(x=train_batches,\n",
        "          steps_per_epoch=len(train_batches),\n",
        "          validation_data=valid_batches,\n",
        "          validation_steps=len(valid_batches),\n",
        "          epochs=5,\n",
        "          verbose=2\n",
        ")"
      ],
      "execution_count": null,
      "outputs": []
    },
    {
      "cell_type": "code",
      "metadata": {
        "id": "QNHDuPLeg2XX",
        "colab": {
          "base_uri": "https://localhost:8080/",
          "height": 595
        },
        "outputId": "6bd7559c-68af-4861-ded7-ddd7a449c870"
      },
      "source": [
        "history = model.fit(\n",
        "      train_batches,\n",
        "      steps_per_epoch=len(train_batches),\n",
        "      epochs=30,\n",
        "      validation_data=valid_batches,\n",
        "      validation_steps=len(valid_batches),\n",
        "      verbose=1)"
      ],
      "execution_count": null,
      "outputs": [
        {
          "output_type": "stream",
          "text": [
            "Epoch 1/30\n",
            "30/30 [==============================] - 263s 9s/step - loss: 1172.3408 - accuracy: 0.2608 - val_loss: 190.8869 - val_accuracy: 0.2837\n",
            "Epoch 2/30\n",
            "30/30 [==============================] - 222s 7s/step - loss: 298.6965 - accuracy: 0.3008 - val_loss: 52.1306 - val_accuracy: 0.4504\n",
            "Epoch 3/30\n",
            "30/30 [==============================] - 219s 7s/step - loss: 42.2519 - accuracy: 0.2939 - val_loss: 2.1655 - val_accuracy: 0.2589\n",
            "Epoch 4/30\n",
            "30/30 [==============================] - 229s 8s/step - loss: 1.9305 - accuracy: 0.2545 - val_loss: 1.8292 - val_accuracy: 0.2695\n",
            "Epoch 5/30\n",
            "30/30 [==============================] - 222s 7s/step - loss: 1.6833 - accuracy: 0.2508 - val_loss: 1.5390 - val_accuracy: 0.2624\n",
            "Epoch 6/30\n",
            "30/30 [==============================] - 221s 7s/step - loss: 2.2380 - accuracy: 0.2495 - val_loss: 2.1485 - val_accuracy: 0.2482\n",
            "Epoch 7/30\n",
            "30/30 [==============================] - 220s 7s/step - loss: 2.4957 - accuracy: 0.2495 - val_loss: 1.6682 - val_accuracy: 0.2553\n",
            "Epoch 8/30\n",
            "30/30 [==============================] - 220s 7s/step - loss: 3.0994 - accuracy: 0.2527 - val_loss: 2.6890 - val_accuracy: 0.2482\n",
            "Epoch 9/30\n",
            "30/30 [==============================] - 219s 7s/step - loss: 1.6583 - accuracy: 0.2508 - val_loss: 1.7455 - val_accuracy: 0.2624\n",
            "Epoch 10/30\n",
            "30/30 [==============================] - 218s 7s/step - loss: 1.7447 - accuracy: 0.2483 - val_loss: 1.4249 - val_accuracy: 0.2553\n",
            "Epoch 11/30\n",
            "30/30 [==============================] - 218s 7s/step - loss: 1.4176 - accuracy: 0.2508 - val_loss: 1.4800 - val_accuracy: 0.2553\n",
            "Epoch 12/30\n",
            "30/30 [==============================] - 218s 7s/step - loss: 1.3946 - accuracy: 0.2508 - val_loss: 1.4955 - val_accuracy: 0.2553\n",
            "Epoch 13/30\n",
            "30/30 [==============================] - 218s 7s/step - loss: 1.5855 - accuracy: 0.2483 - val_loss: 1.4613 - val_accuracy: 0.2553\n",
            "Epoch 14/30\n",
            "30/30 [==============================] - 218s 7s/step - loss: 1.4605 - accuracy: 0.2508 - val_loss: 1.5476 - val_accuracy: 0.2553\n",
            "Epoch 15/30\n",
            "30/30 [==============================] - 216s 7s/step - loss: 1.6176 - accuracy: 0.2495 - val_loss: 1.4804 - val_accuracy: 0.2660\n",
            "Epoch 16/30\n",
            "30/30 [==============================] - 217s 7s/step - loss: 1.4940 - accuracy: 0.2502 - val_loss: 1.4806 - val_accuracy: 0.2660\n",
            "Epoch 17/30\n",
            " 1/30 [>.............................] - ETA: 0s - loss: 1.3861 - accuracy: 0.2727"
          ],
          "name": "stdout"
        }
      ]
    },
    {
      "cell_type": "code",
      "metadata": {
        "id": "jWUf7Yo8pJuk",
        "colab": {
          "base_uri": "https://localhost:8080/",
          "height": 513
        },
        "outputId": "f95bf001-9ee1-4b94-857a-500d364cd833"
      },
      "source": [
        "acc = history.history['accuracy']\n",
        "val_acc = history.history['val_accuracy']\n",
        "\n",
        "loss = history.history['loss']\n",
        "val_loss = history.history['val_loss']\n",
        "\n",
        "plt.figure(figsize=(8, 8))\n",
        "plt.subplot(2, 1, 1)\n",
        "plt.plot(acc, label='Training Accuracy')\n",
        "plt.plot(val_acc, label='Validation Accuracy')\n",
        "plt.legend(loc='lower right')\n",
        "plt.ylabel('Accuracy')\n",
        "plt.ylim([min(plt.ylim()),1])\n",
        "plt.title('Training and Validation Accuracy')\n",
        "\n",
        "plt.subplot(2, 1, 2)\n",
        "plt.plot(loss, label='Training Loss')\n",
        "plt.plot(val_loss, label='Validation Loss')\n",
        "plt.legend(loc='upper right')\n",
        "plt.ylabel('Cross Entropy')\n",
        "plt.ylim([0,2.0])\n",
        "plt.title('Training and Validation Loss')\n",
        "plt.xlabel('epoch')\n",
        "plt.show()"
      ],
      "execution_count": null,
      "outputs": [
        {
          "output_type": "display_data",
          "data": {
            "image/png": "[encoded data removed]",
            "text/plain": [
              "<Figure size 576x576 with 2 Axes>"
            ]
          },
          "metadata": {
            "tags": [],
            "needs_background": "light"
          }
        }
      ]
    },
    {
      "cell_type": "code",
      "metadata": {
        "id": "yddf5RDoodUd"
      },
      "source": [
        "test_labels = test_batches.classes"
      ],
      "execution_count": null,
      "outputs": []
    },
    {
      "cell_type": "code",
      "metadata": {
        "id": "NRU7vIYSopse"
      },
      "source": [
        "predictions = model.predict(x=test_batches, steps=len(test_batches), verbose=0)"
      ],
      "execution_count": null,
      "outputs": []
    }
  ]
}